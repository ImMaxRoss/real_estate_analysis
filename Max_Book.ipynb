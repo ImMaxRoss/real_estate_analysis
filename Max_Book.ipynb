{
 "cells": [
  {
   "cell_type": "markdown",
   "metadata": {},
   "source": [
    "# 1. Data Cleaning"
   ]
  },
  {
   "cell_type": "code",
   "execution_count": 1,
   "metadata": {},
   "outputs": [],
   "source": [
    "import pandas as pd\n",
    "import numpy as np\n",
    "import seaborn as sns\n",
    "import matplotlib.pyplot as plt\n",
    "%matplotlib inline\n",
    "\n",
    "import warnings\n",
    "warnings.filterwarnings('ignore')\n",
    "\n",
    "import statsmodels.api as sm\n",
    "import statsmodels.stats.stattools\n",
    "\n",
    "from scipy import stats\n",
    "\n",
    "from sklearn.preprocessing import StandardScaler\n",
    "from sklearn.datasets import make_regression\n",
    "from sklearn.linear_model import LinearRegression\n",
    "import sklearn.metrics as metrics"
   ]
  },
  {
   "cell_type": "code",
   "execution_count": 2,
   "metadata": {},
   "outputs": [],
   "source": [
    "df = pd.read_csv('data/kc_house_data.csv')\n",
    "#df.info()"
   ]
  },
  {
   "cell_type": "markdown",
   "metadata": {},
   "source": [
    "# Converting column dtypes"
   ]
  },
  {
   "cell_type": "code",
   "execution_count": 3,
   "metadata": {},
   "outputs": [],
   "source": [
    "# converting date column from str to int\n",
    "df['date'] = pd.to_datetime(df['date']).dt.year\n",
    "#df.info()"
   ]
  },
  {
   "cell_type": "code",
   "execution_count": 4,
   "metadata": {},
   "outputs": [],
   "source": [
    "#extracting zip code from address and converting to int\n",
    "df['zipcode'] = df['address'].str.extract(r'\\b(\\d{5})[,]\\s*United States\\b').astype('str')"
   ]
  },
  {
   "cell_type": "code",
   "execution_count": 5,
   "metadata": {},
   "outputs": [],
   "source": [
    " #lambda function to extract the first character of each object and convert it to an int.\n",
    "extract_num = lambda x: int(x[:2])\n",
    "\n",
    "# Apply the lambda function\n",
    "df['grade'] = df['grade'].apply(extract_num)"
   ]
  },
  {
   "cell_type": "code",
   "execution_count": 6,
   "metadata": {},
   "outputs": [],
   "source": [
    "df['nuisance'] = df['nuisance'].map({'YES': 0, 'NO': 1})\n",
    "df['greenbelt'] = df['greenbelt'].map({'YES': 1, 'NO': 0})\n",
    "df['waterfront'] = df['waterfront'].map({'YES': 1, 'NO': 0})"
   ]
  },
  {
   "cell_type": "code",
   "execution_count": 7,
   "metadata": {},
   "outputs": [],
   "source": [
    "# 1 is not renovated\n",
    "df['not_renovated'] = (df['yr_renovated'] == 0).astype(int)"
   ]
  },
  {
   "cell_type": "markdown",
   "metadata": {},
   "source": [
    "# Filtering out rows not in King County"
   ]
  },
  {
   "cell_type": "code",
   "execution_count": 8,
   "metadata": {},
   "outputs": [],
   "source": [
    "#filtering out adresses not in Washington\n",
    "df_wash = df[df['address'].str.contains('Washington')]\n",
    "#df_wash.info()"
   ]
  },
  {
   "cell_type": "markdown",
   "metadata": {},
   "source": [
    "#### URL for King County Coordinate info\n",
    "[King County Coordinates](https://www5.kingcounty.gov/sdc/FGDCDocs/ZIPCODE_fgdc.htm)"
   ]
  },
  {
   "cell_type": "code",
   "execution_count": 9,
   "metadata": {
    "scrolled": true
   },
   "outputs": [],
   "source": [
    "df_king = df_wash[(df_wash['lat'] >= 46.71) \n",
    "                       & (df['lat'] <= 48.31) \n",
    "                       & (df['long'] >= -123.07) \n",
    "                       & (df['long'] <= -119.90)]\n",
    "#df_king.info()"
   ]
  },
  {
   "cell_type": "markdown",
   "metadata": {},
   "source": [
    "# Dropping Null, Duplicate, and Unecessary Columns"
   ]
  },
  {
   "cell_type": "code",
   "execution_count": 10,
   "metadata": {},
   "outputs": [],
   "source": [
    "df_king.drop(['id', 'address', 'date', 'view', 'sqft_above', 'sqft_basement', 'lat', 'long'], axis=1, inplace=True)\n",
    "#df_king.info()"
   ]
  },
  {
   "cell_type": "code",
   "execution_count": 11,
   "metadata": {},
   "outputs": [],
   "source": [
    "df_king.drop_duplicates(inplace=True)\n",
    "#df_king.info()"
   ]
  },
  {
   "cell_type": "code",
   "execution_count": 12,
   "metadata": {},
   "outputs": [],
   "source": [
    "df_king.dropna(inplace=True)\n",
    "#df_king.info()"
   ]
  },
  {
   "cell_type": "markdown",
   "metadata": {},
   "source": [
    "# 2. Data Understanding"
   ]
  },
  {
   "cell_type": "code",
   "execution_count": null,
   "metadata": {
    "scrolled": true
   },
   "outputs": [],
   "source": [
    "corr_matrix = df_king.corr(method='pearson')\n",
    "\n",
    "sns.set(font_scale=1.2)\n",
    "plt.figure(figsize=(16,8))\n",
    "sns.heatmap(corr_matrix, annot=True, cmap='coolwarm', linewidths=0.5)\n",
    "plt.title(\"Correlation Heatmap for King County Housing Data\")\n",
    "plt.show()"
   ]
  },
  {
   "cell_type": "markdown",
   "metadata": {},
   "source": [
    "# 3. Creating Simple Base Model"
   ]
  },
  {
   "cell_type": "markdown",
   "metadata": {},
   "source": [
    "### Examining the heatmap, it appears that the Square Feet of Living Space in a home exhibits the strongest correlation coefficient with respect to housing prices. Consequently, using this feature as the basis for a model is logical, as one would intuitively assume that the size of a home, measured in square feet, significantly influences its price."
   ]
  },
  {
   "cell_type": "code",
   "execution_count": 13,
   "metadata": {},
   "outputs": [
    {
     "data": {
      "image/png": "[encoded data removed]",
      "text/plain": [
       "<Figure size 360x360 with 1 Axes>"
      ]
     },
     "metadata": {
      "needs_background": "light"
     },
     "output_type": "display_data"
    }
   ],
   "source": [
    "sns.lmplot(data=df_king, x='sqft_living', y='price')\n",
    "plt.xlabel('SQFT Living')\n",
    "plt.ylabel('Price of House')\n",
    "plt.title('House Price as a function of SQFT_Living');"
   ]
  },
  {
   "cell_type": "markdown",
   "metadata": {},
   "source": [
    "#### Seems to be a clear relationship\n"
   ]
  },
  {
   "cell_type": "code",
   "execution_count": 14,
   "metadata": {},
   "outputs": [],
   "source": [
    "#using log to adjust our most correlated feature and price so that we can create a base model with existing outliers\n",
    "df_king['log_sqft_living'] = np.log(df_king['sqft_living'])\n",
    "df_king['log_price'] = np.log(df_king['price'])"
   ]
  },
  {
   "cell_type": "code",
   "execution_count": 15,
   "metadata": {
    "scrolled": true
   },
   "outputs": [
    {
     "name": "stdout",
     "output_type": "stream",
     "text": [
      "                            OLS Regression Results                            \n",
      "==============================================================================\n",
      "Dep. Variable:              log_price   R-squared:                       0.352\n",
      "Model:                            OLS   Adj. R-squared:                  0.352\n",
      "Method:                 Least Squares   F-statistic:                 1.583e+04\n",
      "Date:                Thu, 30 Mar 2023   Prob (F-statistic):               0.00\n",
      "Time:                        11:32:24   Log-Likelihood:                -19447.\n",
      "No. Observations:               29160   AIC:                         3.890e+04\n",
      "Df Residuals:                   29158   BIC:                         3.891e+04\n",
      "Df Model:                           1                                         \n",
      "Covariance Type:            nonrobust                                         \n",
      "===================================================================================\n",
      "                      coef    std err          t      P>|t|      [0.025      0.975]\n",
      "-----------------------------------------------------------------------------------\n",
      "const               7.8011      0.047    165.039      0.000       7.708       7.894\n",
      "log_sqft_living     0.7845      0.006    125.830      0.000       0.772       0.797\n",
      "==============================================================================\n",
      "Omnibus:                     4713.705   Durbin-Watson:                   1.998\n",
      "Prob(Omnibus):                  0.000   Jarque-Bera (JB):            46025.485\n",
      "Skew:                          -0.482   Prob(JB):                         0.00\n",
      "Kurtosis:                       9.079   Cond. No.                         132.\n",
      "==============================================================================\n",
      "\n",
      "Notes:\n",
      "[1] Standard Errors assume that the covariance matrix of the errors is correctly specified.\n"
     ]
    }
   ],
   "source": [
    "y = df_king['log_price']\n",
    "X = df_king['log_sqft_living']\n",
    "\n",
    "base_model = sm.OLS(y, sm.add_constant(X)).fit()\n",
    "\n",
    "\n",
    "print(base_model.summary())"
   ]
  },
  {
   "cell_type": "markdown",
   "metadata": {},
   "source": [
    "#### Assumption Tests and Analysis:\n",
    "- Passes **multicollinearity** with cond. no. 132 (under 1,000)\n",
    "- Passes **independence** with a Durbin-Watson of almost exactly 2 saying there is no significant autocorrelation\n",
    "- Fails **normality** Omnibus and Jarque-Bera low p-values suggest that the data is not normally distributed\n",
    "- Slightly skewed left\n",
    "- 9.079 Kurtosis indicates that the distribution has heavier tails (more spread out)"
   ]
  },
  {
   "cell_type": "markdown",
   "metadata": {},
   "source": [
    "# Assumption Testing \n",
    "\n",
    "## I. # Linearity Residual plots"
   ]
  },
  {
   "cell_type": "code",
   "execution_count": null,
   "metadata": {
    "scrolled": true
   },
   "outputs": [],
   "source": [
    "# Residual plots\n",
    "fig, ax = plt.subplots(figsize=(8,6))\n",
    "ax.scatter(base_model.predict(), base_model.resid)\n",
    "ax.axhline(y=0, color='r', linestyle='-')\n",
    "ax.set_xlabel('Predicted Values')\n",
    "ax.set_ylabel('Residuals')\n",
    "ax.set_title('Predicted vs. Residuals Scatterplot')\n",
    "plt.show()\n",
    "\n",
    "fig, ax = plt.subplots(figsize=(8,6))\n",
    "sm.qqplot(base_model.resid,line='s',ax=ax)\n",
    "ax.set_title('Q-Q Plot')\n",
    "plt.show()\n",
    "\n",
    "# Partial regression plots\n",
    "fig, ax = plt.subplots(figsize=(12,8))\n",
    "sm.graphics.plot_partregress_grid(base_model, fig=fig)\n",
    "plt.show()"
   ]
  },
  {
   "cell_type": "code",
   "execution_count": null,
   "metadata": {},
   "outputs": [],
   "source": [
    "from statsmodels.stats.diagnostic import linear_rainbow\n",
    "linear_rainbow(base_model)"
   ]
  },
  {
   "cell_type": "markdown",
   "metadata": {},
   "source": [
    "## Based on our q-q plot and linear rainbow diagnostic we cann assume that our linear regression model has satisfied the Linear Assumptino"
   ]
  },
  {
   "cell_type": "markdown",
   "metadata": {},
   "source": [
    "## II. **Normality Assumption**: Assumes that residuals or errors are normally distributed.\n",
    "\n",
    "- The **Omnibus test** is used to detect normality assumption. A low probability value suggests that the distribution of errors or residuals is not normal. In this case, the p-value for the Omnibus test is 0.000 which means that we can reject the null hypothesis of normal distribution of residuals and conclude that the normality assumption is violated.\n",
    "- **Jarque-Bera** (JB) test is also used to check for normality assumption. The JB test statistic measures whether the data has skewness or kurtosis values matching a normal distribution. If the test statistic is large and/or the p-value is low, then skewness and/or kurtosis are not similar to a normal distribution. With a very large test statistic of 50073454.459 and the p-value of 0.00, we can reject the null hypothesis of normality, indicating a violation of normality assumption.\n",
    "- **Skewness** measures the degree of asymmetry of a probability distribution. A symmetrical distribution will have a skewness of 0. Positive skewness means there are more observations on the left side of the distribution, while negative means more observations on the right side. Here, the skewness value of 8.237 indicates positive skewness.\n",
    "- **Kurtosis** measures the degree of peakness of a probability distribution. A normal distribution has a kurtosis of 3, and if it is greater than 3, it is said to be leptokurtic or heavy-tailed, and if it is less than 3, it is said to be platykurtic or light-tailed. The value of Kurtosis here is exceptionally high at 205.252 reflecting a severe deviation from normality."
   ]
  },
  {
   "cell_type": "code",
   "execution_count": null,
   "metadata": {
    "scrolled": true
   },
   "outputs": [],
   "source": [
    "base_model.summary().tables[2]"
   ]
  },
  {
   "cell_type": "markdown",
   "metadata": {},
   "source": [
    "#### with omnibus and Jarque-Bera having small p-values this suggests that we cannot reject the null-hypothesis that the base model data is normally distributed.\n",
    "#### Also with a Kurtosis greater than 3 this would suggest that the distribution is heavilyt tailed/spread out\n",
    "#### Therefore this model does not pass normality assumption and we can not assume that this model is normally distributed"
   ]
  },
  {
   "cell_type": "markdown",
   "metadata": {},
   "source": [
    "## III.Homoscedasticity Assumption: Assumes that the variance of residuals is constant across observations or independent variable values.\n",
    "- need to look into this"
   ]
  },
  {
   "cell_type": "code",
   "execution_count": null,
   "metadata": {},
   "outputs": [],
   "source": [
    "from statsmodels.stats.diagnostic import het_breuschpagan"
   ]
  },
  {
   "cell_type": "code",
   "execution_count": null,
   "metadata": {
    "scrolled": true
   },
   "outputs": [],
   "source": [
    "het_breuschpagan(base_model.resid, sm.add_constant(X))"
   ]
  },
  {
   "cell_type": "markdown",
   "metadata": {},
   "source": [
    "#### larger p-values for Lagrange Multiplier and Breuschpagan suggest that this base model passes Homoscedasticity Assumption"
   ]
  },
  {
   "cell_type": "markdown",
   "metadata": {},
   "source": [
    "# IV. Independence"
   ]
  },
  {
   "cell_type": "code",
   "execution_count": null,
   "metadata": {},
   "outputs": [],
   "source": [
    "resids = base_model.resid \n",
    "dw = sm.stats.stattools.durbin_watson\n",
    "dw(resids)"
   ]
  },
  {
   "cell_type": "markdown",
   "metadata": {},
   "source": [
    "#### A score of almost 2 indicates that there is no autocorrelation and therefore passess the independence assumption"
   ]
  },
  {
   "cell_type": "markdown",
   "metadata": {},
   "source": [
    "# 4. Testing multiple regression models"
   ]
  },
  {
   "cell_type": "markdown",
   "metadata": {},
   "source": [
    "## I. One-Hot encoding categorical data to see if any sub category has a stronger correlation with price than current variables (these categorical columns were not on scale like 'grade' and 'condition' and the boolean categories)\n",
    "#### Categorical columns:\n",
    "- zipcode\n",
    "- heat_source\n",
    "- sewer_system"
   ]
  },
  {
   "cell_type": "markdown",
   "metadata": {},
   "source": [
    "#### A. Zipcodes"
   ]
  },
  {
   "cell_type": "code",
   "execution_count": null,
   "metadata": {},
   "outputs": [],
   "source": [
    "df_dummy_zip = df_king.copy()"
   ]
  },
  {
   "cell_type": "code",
   "execution_count": null,
   "metadata": {},
   "outputs": [],
   "source": [
    "# Get unique zipcodes\n",
    "unique_zipcodes = df_dummy_zip['zipcode'].unique()\n",
    "\n",
    "# Convert column 'zipcode' into dummy columns\n",
    "df_zip = pd.get_dummies(df_dummy_zip, columns=['zipcode'], prefix='zipcode')\n",
    "\n",
    "# Create a list of new dummy zipcode columns\n",
    "zip_col = [f\"zipcode_{zipcode}\" for zipcode in unique_zipcodes]\n",
    "\n",
    "# Define the most correlated column\n",
    "most_correlated = 'log_sqft_living'\n",
    "\n",
    "# Select the most correlated column and new dummy zipcode columns\n",
    "X_iterated = df_zip[[most_correlated] + zip_col + ['log_price']]"
   ]
  },
  {
   "cell_type": "code",
   "execution_count": null,
   "metadata": {
    "scrolled": true
   },
   "outputs": [],
   "source": [
    "X_iterated.corr()['log_price'].sort_values(ascending=False).head(10)"
   ]
  },
  {
   "cell_type": "code",
   "execution_count": null,
   "metadata": {},
   "outputs": [],
   "source": [
    "zip_dummy_base = X_iterated.drop('zipcode_98042', axis=1)"
   ]
  },
  {
   "cell_type": "code",
   "execution_count": null,
   "metadata": {},
   "outputs": [],
   "source": [
    "iterated_model = sm.OLS(y, sm.add_constant(zip_dummy_base))\n",
    "iterated_results = iterated_model.fit()\n",
    "print(iterated_results.summary())"
   ]
  },
  {
   "cell_type": "markdown",
   "metadata": {},
   "source": [
    "#### B. Heat_Source"
   ]
  },
  {
   "cell_type": "code",
   "execution_count": null,
   "metadata": {},
   "outputs": [],
   "source": [
    "df_dummy_heat = df_king.copy()"
   ]
  },
  {
   "cell_type": "code",
   "execution_count": null,
   "metadata": {},
   "outputs": [],
   "source": [
    "# Get unique zipcodes\n",
    "heat_systems = df_dummy_heat['heat_source'].unique()\n",
    "\n",
    "# Convert column 'zipcode' into dummy columns\n",
    "df_heat = pd.get_dummies(df_dummy_heat, columns=['heat_source'], prefix='heat_source')\n",
    "\n",
    "# Create a list of new dummy zipcode columns\n",
    "heat_col = [f\"heat_source_{heat_source}\" for heat_source in heat_systems]\n",
    "\n",
    "# Define the most correlated column\n",
    "most_correlated2 = 'log_sqft_living'\n",
    "\n",
    "# Select the most correlated column and new dummy zipcode columns\n",
    "X_iterated2 = df_heat[[most_correlated2] + heat_col]"
   ]
  },
  {
   "cell_type": "code",
   "execution_count": null,
   "metadata": {},
   "outputs": [],
   "source": [
    "df_dummy_heat['heat_source'].value_counts()"
   ]
  },
  {
   "cell_type": "code",
   "execution_count": null,
   "metadata": {
    "scrolled": false
   },
   "outputs": [],
   "source": [
    "X_iterated2.corr()['log_sqft_living'].sort_values(ascending=False)"
   ]
  },
  {
   "cell_type": "code",
   "execution_count": null,
   "metadata": {},
   "outputs": [],
   "source": [
    "heat_dum_base = X_iterated2.drop('heat_source_Gas', axis=1)"
   ]
  },
  {
   "cell_type": "code",
   "execution_count": null,
   "metadata": {},
   "outputs": [],
   "source": [
    "iterated_model2 = sm.OLS(y, sm.add_constant(heat_dum_base))\n",
    "iterated_results2 = iterated_model2.fit()\n",
    "print(iterated_results2.summary())"
   ]
  },
  {
   "cell_type": "markdown",
   "metadata": {},
   "source": [
    "#### C. sewer_system"
   ]
  },
  {
   "cell_type": "code",
   "execution_count": null,
   "metadata": {},
   "outputs": [],
   "source": [
    "df_dummy_sewer = df_king.copy()"
   ]
  },
  {
   "cell_type": "code",
   "execution_count": null,
   "metadata": {},
   "outputs": [],
   "source": [
    "# Get unique zipcodes\n",
    "sewer_systems = df_dummy_sewer['sewer_system'].unique()\n",
    "\n",
    "# Convert column 'zipcode' into dummy columns\n",
    "df_sewer = pd.get_dummies(df_dummy_sewer, columns=['sewer_system'], prefix='sewer_system')\n",
    "\n",
    "# Create a list of new dummy zipcode columns\n",
    "zip_col3 = [f\"sewer_system_{sewer_system}\" for sewer_system in sewer_systems]\n",
    "\n",
    "# Define the most correlated column\n",
    "most_correlated3 = 'log_sqft_living'\n",
    "\n",
    "# Select the most correlated column and new dummy zipcode columns\n",
    "X_iterated3 = df_sewer[[most_correlated3] + zip_col3]"
   ]
  },
  {
   "cell_type": "code",
   "execution_count": null,
   "metadata": {
    "scrolled": false
   },
   "outputs": [],
   "source": [
    "df_dummy_sewer['sewer_system'].value_counts()"
   ]
  },
  {
   "cell_type": "code",
   "execution_count": null,
   "metadata": {},
   "outputs": [],
   "source": [
    "X_iterated3.corr()['log_sqft_living'].sort_values(ascending=False)"
   ]
  },
  {
   "cell_type": "code",
   "execution_count": null,
   "metadata": {},
   "outputs": [],
   "source": [
    "sewer_dum_base = X_iterated3.drop('sewer_system_PUBLIC', axis=1)"
   ]
  },
  {
   "cell_type": "code",
   "execution_count": null,
   "metadata": {},
   "outputs": [],
   "source": [
    "iterated_model3 = sm.OLS(y, sm.add_constant(sewer_dum_base))\n",
    "iterated_results3 = iterated_model3.fit()\n",
    "print(iterated_results3.summary())"
   ]
  },
  {
   "cell_type": "markdown",
   "metadata": {},
   "source": [
    "Assumption Tests and Analysis:\n",
    "Fails multicollinearity with cond. no. higher than 1000 (may be able to pass after removing outliers)\n",
    "Passes independence with a Durbin-Watson of almost exactly 2 saying there is no significant autocorrelation\n",
    "Fails normality Omnibus and Jarque-Bera low p-values suggest that the data is not normally distributed\n",
    "Slightly skewed left\n",
    "9.079 Kurtosis indicates that the distribution has heavier tails (more spread out)"
   ]
  },
  {
   "cell_type": "markdown",
   "metadata": {},
   "source": [
    "#### D. condition"
   ]
  },
  {
   "cell_type": "code",
   "execution_count": null,
   "metadata": {},
   "outputs": [],
   "source": [
    "df_dummy_condtion = df_king.copy()"
   ]
  },
  {
   "cell_type": "code",
   "execution_count": null,
   "metadata": {},
   "outputs": [],
   "source": [
    "# Get unique zipcodes\n",
    "conditions = df_dummy_condtion['condition'].unique()\n",
    "\n",
    "# Convert column 'zipcode' into dummy columns\n",
    "df_con = pd.get_dummies(df_dummy_condtion, columns=['condition'], prefix='condition')\n",
    "\n",
    "# Create a list of new dummy zipcode columns\n",
    "con_col = [f\"condition_{condition}\" for condition in conditions]\n",
    "\n",
    "# Define the most correlated column\n",
    "most_correlated4 = 'log_sqft_living'\n",
    "\n",
    "# Select the most correlated column and new dummy zipcode columns\n",
    "X_iterated4 = df_con[[most_correlated4] + con_col]"
   ]
  },
  {
   "cell_type": "code",
   "execution_count": null,
   "metadata": {},
   "outputs": [],
   "source": [
    "con_dum_base = X_iterated4.drop('condition_Average', axis=1)"
   ]
  },
  {
   "cell_type": "code",
   "execution_count": null,
   "metadata": {},
   "outputs": [],
   "source": [
    "iterated_model4 = sm.OLS(y, sm.add_constant(con_dum_base))\n",
    "iterated_results4 = iterated_model4.fit()"
   ]
  },
  {
   "cell_type": "code",
   "execution_count": null,
   "metadata": {},
   "outputs": [],
   "source": [
    "print(iterated_results4.summary())"
   ]
  },
  {
   "cell_type": "markdown",
   "metadata": {},
   "source": [
    "#### E. grade"
   ]
  },
  {
   "cell_type": "code",
   "execution_count": null,
   "metadata": {},
   "outputs": [],
   "source": [
    "df_dummy_grad = df_king.copy()"
   ]
  },
  {
   "cell_type": "code",
   "execution_count": null,
   "metadata": {},
   "outputs": [],
   "source": [
    "# Get unique zipcodes\n",
    "grades = df_dummy_grad['grade'].unique()\n",
    "\n",
    "# Convert column 'zipcode' into dummy columns\n",
    "df_grade = pd.get_dummies(df_dummy_grad, columns=['grade'], prefix='grade')\n",
    "\n",
    "# Create a list of new dummy zipcode columns\n",
    "grade_col = [f\"grade_{grade}\" for grade in grades]\n",
    "\n",
    "# Define the most correlated column\n",
    "most_correlated5 = 'log_sqft_living'\n",
    "\n",
    "# Select the most correlated column and new dummy zipcode columns\n",
    "X_iterated5 = df_grade[[most_correlated5] + grade_col]"
   ]
  },
  {
   "cell_type": "code",
   "execution_count": null,
   "metadata": {},
   "outputs": [],
   "source": [
    "grade_dum_base = X_iterated5.drop('grade_7', axis=1)"
   ]
  },
  {
   "cell_type": "code",
   "execution_count": null,
   "metadata": {},
   "outputs": [],
   "source": [
    "iterated_model5 = sm.OLS(y, sm.add_constant(grade_dum_base))\n",
    "iterated_results5 = iterated_model5.fit()"
   ]
  },
  {
   "cell_type": "code",
   "execution_count": null,
   "metadata": {
    "scrolled": true
   },
   "outputs": [],
   "source": [
    "print(iterated_results5.summary())"
   ]
  },
  {
   "cell_type": "markdown",
   "metadata": {},
   "source": [
    "## II. Testing Boolean Categorie models"
   ]
  },
  {
   "cell_type": "code",
   "execution_count": null,
   "metadata": {
    "scrolled": true
   },
   "outputs": [],
   "source": [
    "columns = ['log_sqft_living', 'waterfront']\n",
    "\n",
    "y = df_king['log_price']\n",
    "X = df_king[columns]\n",
    "\n",
    "water_model = sm.OLS(y, sm.add_constant(X)).fit()\n",
    "\n",
    "\n",
    "print(water_model.summary())"
   ]
  },
  {
   "cell_type": "code",
   "execution_count": null,
   "metadata": {
    "scrolled": true
   },
   "outputs": [],
   "source": [
    "columns2 = ['log_sqft_living', 'greenbelt']\n",
    "\n",
    "y = df_king['log_price']\n",
    "X = df_king[columns2]\n",
    "\n",
    "green_model = sm.OLS(y, sm.add_constant(X)).fit()\n",
    "\n",
    "\n",
    "print(green_model.summary())"
   ]
  },
  {
   "cell_type": "code",
   "execution_count": null,
   "metadata": {},
   "outputs": [],
   "source": [
    "columns3 = ['log_sqft_living', 'nuisance']\n",
    "\n",
    "y = df_king['log_price']\n",
    "X = df_king[columns3]\n",
    "\n",
    "nuisance_model = sm.OLS(y, sm.add_constant(X)).fit()\n",
    "\n",
    "\n",
    "print(nuisance_model.summary())"
   ]
  },
  {
   "cell_type": "code",
   "execution_count": 17,
   "metadata": {},
   "outputs": [
    {
     "name": "stdout",
     "output_type": "stream",
     "text": [
      "                            OLS Regression Results                            \n",
      "==============================================================================\n",
      "Dep. Variable:              log_price   R-squared:                       0.355\n",
      "Model:                            OLS   Adj. R-squared:                  0.355\n",
      "Method:                 Least Squares   F-statistic:                     8024.\n",
      "Date:                Thu, 30 Mar 2023   Prob (F-statistic):               0.00\n",
      "Time:                        11:33:33   Log-Likelihood:                -19377.\n",
      "No. Observations:               29160   AIC:                         3.876e+04\n",
      "Df Residuals:                   29157   BIC:                         3.879e+04\n",
      "Df Model:                           2                                         \n",
      "Covariance Type:            nonrobust                                         \n",
      "===================================================================================\n",
      "                      coef    std err          t      P>|t|      [0.025      0.975]\n",
      "-----------------------------------------------------------------------------------\n",
      "const               7.9666      0.049    161.953      0.000       7.870       8.063\n",
      "log_sqft_living     0.7820      0.006    125.661      0.000       0.770       0.794\n",
      "not_renovated      -0.1541      0.013    -11.824      0.000      -0.180      -0.129\n",
      "==============================================================================\n",
      "Omnibus:                     4837.430   Durbin-Watson:                   2.000\n",
      "Prob(Omnibus):                  0.000   Jarque-Bera (JB):            47669.124\n",
      "Skew:                          -0.502   Prob(JB):                         0.00\n",
      "Kurtosis:                       9.183   Cond. No.                         139.\n",
      "==============================================================================\n",
      "\n",
      "Notes:\n",
      "[1] Standard Errors assume that the covariance matrix of the errors is correctly specified.\n"
     ]
    }
   ],
   "source": [
    "columns4 = ['log_sqft_living', 'not_renovated']\n",
    "\n",
    "y = df_king['log_price']\n",
    "X = df_king[columns4]\n",
    "\n",
    "renovation_model = sm.OLS(y, sm.add_constant(X)).fit()\n",
    "\n",
    "\n",
    "print(renovation_model.summary())"
   ]
  },
  {
   "cell_type": "markdown",
   "metadata": {},
   "source": [
    "## Finalizing Model\n",
    "\n",
    "### (only real outliers contained in price. Rest of the entries have outliers but price holds the most and after removing all outliers we are left with a dataframe of nearly 26k entries. "
   ]
  },
  {
   "cell_type": "code",
   "execution_count": null,
   "metadata": {
    "scrolled": true
   },
   "outputs": [],
   "source": [
    "df_king.boxplot(column=['price'])\n",
    "\n",
    "plt.show()"
   ]
  },
  {
   "cell_type": "code",
   "execution_count": 18,
   "metadata": {},
   "outputs": [],
   "source": [
    "#df_king_final = df_king[(df_king['price'] <= 1882000)]\n",
    "#df_king_price.info()"
   ]
  },
  {
   "cell_type": "code",
   "execution_count": 73,
   "metadata": {},
   "outputs": [],
   "source": [
    "df_king_final = df_king[(df_king['not_renovated'] == 0)]"
   ]
  },
  {
   "cell_type": "code",
   "execution_count": 74,
   "metadata": {
    "scrolled": false
   },
   "outputs": [
    {
     "data": {
      "image/png": "[encoded data removed]",
      "text/plain": [
       "<Figure size 432x288 with 1 Axes>"
      ]
     },
     "metadata": {
      "needs_background": "light"
     },
     "output_type": "display_data"
    }
   ],
   "source": [
    "df_king_final.boxplot(column=['price'])\n",
    "\n",
    "plt.show()"
   ]
  },
  {
   "cell_type": "code",
   "execution_count": 75,
   "metadata": {},
   "outputs": [],
   "source": [
    "# Get unique zipcodes\n",
    "unique_zipcodes2 = df_king_final['zipcode'].unique()\n",
    "\n",
    "# Convert column 'zipcode' into dummy columns\n",
    "df_zip2 = pd.get_dummies(df_king_final, columns=['zipcode'], prefix='zipcode')\n",
    "\n",
    "# Create a list of new dummy zipcode columns\n",
    "zip_col2 = [f\"zipcode_{zipcode}\" for zipcode in unique_zipcodes2]\n",
    "\n",
    "# Define the most correlated column\n",
    "most_correlated = 'log_sqft_living'\n",
    "\n",
    "# Select the most correlated column and new dummy zipcode columns\n",
    "X_iterated_final = df_zip2[[most_correlated] + zip_col2 + ['log_price']]"
   ]
  },
  {
   "cell_type": "code",
   "execution_count": 76,
   "metadata": {},
   "outputs": [],
   "source": [
    "zip_dummy_final = X_iterated_final.drop('zipcode_98042', axis=1)"
   ]
  },
  {
   "cell_type": "code",
   "execution_count": 77,
   "metadata": {},
   "outputs": [
    {
     "data": {
      "text/html": [
       "<div>\n",
       "<style scoped>\n",
       "    .dataframe tbody tr th:only-of-type {\n",
       "        vertical-align: middle;\n",
       "    }\n",
       "\n",
       "    .dataframe tbody tr th {\n",
       "        vertical-align: top;\n",
       "    }\n",
       "\n",
       "    .dataframe thead th {\n",
       "        text-align: right;\n",
       "    }\n",
       "</style>\n",
       "<table border=\"1\" class=\"dataframe\">\n",
       "  <thead>\n",
       "    <tr style=\"text-align: right;\">\n",
       "      <th></th>\n",
       "      <th>log_sqft_living</th>\n",
       "      <th>zipcode_98126</th>\n",
       "      <th>zipcode_98004</th>\n",
       "      <th>zipcode_98055</th>\n",
       "      <th>zipcode_98116</th>\n",
       "      <th>zipcode_98117</th>\n",
       "      <th>zipcode_98027</th>\n",
       "      <th>zipcode_98103</th>\n",
       "      <th>zipcode_98115</th>\n",
       "      <th>zipcode_98033</th>\n",
       "      <th>...</th>\n",
       "      <th>zipcode_98003</th>\n",
       "      <th>zipcode_98224</th>\n",
       "      <th>zipcode_98057</th>\n",
       "      <th>zipcode_98007</th>\n",
       "      <th>zipcode_98053</th>\n",
       "      <th>zipcode_98075</th>\n",
       "      <th>zipcode_98148</th>\n",
       "      <th>zipcode_98029</th>\n",
       "      <th>zipcode_98077</th>\n",
       "      <th>log_price</th>\n",
       "    </tr>\n",
       "  </thead>\n",
       "  <tbody>\n",
       "    <tr>\n",
       "      <th>24</th>\n",
       "      <td>7.506592</td>\n",
       "      <td>1</td>\n",
       "      <td>0</td>\n",
       "      <td>0</td>\n",
       "      <td>0</td>\n",
       "      <td>0</td>\n",
       "      <td>0</td>\n",
       "      <td>0</td>\n",
       "      <td>0</td>\n",
       "      <td>0</td>\n",
       "      <td>...</td>\n",
       "      <td>0</td>\n",
       "      <td>0</td>\n",
       "      <td>0</td>\n",
       "      <td>0</td>\n",
       "      <td>0</td>\n",
       "      <td>0</td>\n",
       "      <td>0</td>\n",
       "      <td>0</td>\n",
       "      <td>0</td>\n",
       "      <td>13.573439</td>\n",
       "    </tr>\n",
       "    <tr>\n",
       "      <th>36</th>\n",
       "      <td>7.740664</td>\n",
       "      <td>0</td>\n",
       "      <td>1</td>\n",
       "      <td>0</td>\n",
       "      <td>0</td>\n",
       "      <td>0</td>\n",
       "      <td>0</td>\n",
       "      <td>0</td>\n",
       "      <td>0</td>\n",
       "      <td>0</td>\n",
       "      <td>...</td>\n",
       "      <td>0</td>\n",
       "      <td>0</td>\n",
       "      <td>0</td>\n",
       "      <td>0</td>\n",
       "      <td>0</td>\n",
       "      <td>0</td>\n",
       "      <td>0</td>\n",
       "      <td>0</td>\n",
       "      <td>0</td>\n",
       "      <td>14.711599</td>\n",
       "    </tr>\n",
       "    <tr>\n",
       "      <th>40</th>\n",
       "      <td>7.512071</td>\n",
       "      <td>0</td>\n",
       "      <td>0</td>\n",
       "      <td>1</td>\n",
       "      <td>0</td>\n",
       "      <td>0</td>\n",
       "      <td>0</td>\n",
       "      <td>0</td>\n",
       "      <td>0</td>\n",
       "      <td>0</td>\n",
       "      <td>...</td>\n",
       "      <td>0</td>\n",
       "      <td>0</td>\n",
       "      <td>0</td>\n",
       "      <td>0</td>\n",
       "      <td>0</td>\n",
       "      <td>0</td>\n",
       "      <td>0</td>\n",
       "      <td>0</td>\n",
       "      <td>0</td>\n",
       "      <td>13.527828</td>\n",
       "    </tr>\n",
       "    <tr>\n",
       "      <th>42</th>\n",
       "      <td>7.673223</td>\n",
       "      <td>0</td>\n",
       "      <td>1</td>\n",
       "      <td>0</td>\n",
       "      <td>0</td>\n",
       "      <td>0</td>\n",
       "      <td>0</td>\n",
       "      <td>0</td>\n",
       "      <td>0</td>\n",
       "      <td>0</td>\n",
       "      <td>...</td>\n",
       "      <td>0</td>\n",
       "      <td>0</td>\n",
       "      <td>0</td>\n",
       "      <td>0</td>\n",
       "      <td>0</td>\n",
       "      <td>0</td>\n",
       "      <td>0</td>\n",
       "      <td>0</td>\n",
       "      <td>0</td>\n",
       "      <td>14.351711</td>\n",
       "    </tr>\n",
       "    <tr>\n",
       "      <th>51</th>\n",
       "      <td>7.215240</td>\n",
       "      <td>0</td>\n",
       "      <td>0</td>\n",
       "      <td>0</td>\n",
       "      <td>1</td>\n",
       "      <td>0</td>\n",
       "      <td>0</td>\n",
       "      <td>0</td>\n",
       "      <td>0</td>\n",
       "      <td>0</td>\n",
       "      <td>...</td>\n",
       "      <td>0</td>\n",
       "      <td>0</td>\n",
       "      <td>0</td>\n",
       "      <td>0</td>\n",
       "      <td>0</td>\n",
       "      <td>0</td>\n",
       "      <td>0</td>\n",
       "      <td>0</td>\n",
       "      <td>0</td>\n",
       "      <td>13.901688</td>\n",
       "    </tr>\n",
       "    <tr>\n",
       "      <th>...</th>\n",
       "      <td>...</td>\n",
       "      <td>...</td>\n",
       "      <td>...</td>\n",
       "      <td>...</td>\n",
       "      <td>...</td>\n",
       "      <td>...</td>\n",
       "      <td>...</td>\n",
       "      <td>...</td>\n",
       "      <td>...</td>\n",
       "      <td>...</td>\n",
       "      <td>...</td>\n",
       "      <td>...</td>\n",
       "      <td>...</td>\n",
       "      <td>...</td>\n",
       "      <td>...</td>\n",
       "      <td>...</td>\n",
       "      <td>...</td>\n",
       "      <td>...</td>\n",
       "      <td>...</td>\n",
       "      <td>...</td>\n",
       "      <td>...</td>\n",
       "    </tr>\n",
       "    <tr>\n",
       "      <th>30084</th>\n",
       "      <td>7.714231</td>\n",
       "      <td>0</td>\n",
       "      <td>0</td>\n",
       "      <td>0</td>\n",
       "      <td>0</td>\n",
       "      <td>0</td>\n",
       "      <td>0</td>\n",
       "      <td>0</td>\n",
       "      <td>0</td>\n",
       "      <td>0</td>\n",
       "      <td>...</td>\n",
       "      <td>0</td>\n",
       "      <td>0</td>\n",
       "      <td>0</td>\n",
       "      <td>0</td>\n",
       "      <td>0</td>\n",
       "      <td>0</td>\n",
       "      <td>0</td>\n",
       "      <td>0</td>\n",
       "      <td>0</td>\n",
       "      <td>13.589864</td>\n",
       "    </tr>\n",
       "    <tr>\n",
       "      <th>30094</th>\n",
       "      <td>7.478735</td>\n",
       "      <td>0</td>\n",
       "      <td>0</td>\n",
       "      <td>0</td>\n",
       "      <td>0</td>\n",
       "      <td>0</td>\n",
       "      <td>0</td>\n",
       "      <td>0</td>\n",
       "      <td>0</td>\n",
       "      <td>0</td>\n",
       "      <td>...</td>\n",
       "      <td>0</td>\n",
       "      <td>0</td>\n",
       "      <td>0</td>\n",
       "      <td>0</td>\n",
       "      <td>0</td>\n",
       "      <td>0</td>\n",
       "      <td>0</td>\n",
       "      <td>0</td>\n",
       "      <td>0</td>\n",
       "      <td>14.415169</td>\n",
       "    </tr>\n",
       "    <tr>\n",
       "      <th>30105</th>\n",
       "      <td>7.605890</td>\n",
       "      <td>0</td>\n",
       "      <td>0</td>\n",
       "      <td>0</td>\n",
       "      <td>0</td>\n",
       "      <td>0</td>\n",
       "      <td>0</td>\n",
       "      <td>0</td>\n",
       "      <td>0</td>\n",
       "      <td>0</td>\n",
       "      <td>...</td>\n",
       "      <td>0</td>\n",
       "      <td>0</td>\n",
       "      <td>0</td>\n",
       "      <td>0</td>\n",
       "      <td>0</td>\n",
       "      <td>0</td>\n",
       "      <td>0</td>\n",
       "      <td>0</td>\n",
       "      <td>0</td>\n",
       "      <td>14.140759</td>\n",
       "    </tr>\n",
       "    <tr>\n",
       "      <th>30107</th>\n",
       "      <td>7.313220</td>\n",
       "      <td>0</td>\n",
       "      <td>0</td>\n",
       "      <td>0</td>\n",
       "      <td>0</td>\n",
       "      <td>0</td>\n",
       "      <td>0</td>\n",
       "      <td>0</td>\n",
       "      <td>0</td>\n",
       "      <td>0</td>\n",
       "      <td>...</td>\n",
       "      <td>0</td>\n",
       "      <td>0</td>\n",
       "      <td>0</td>\n",
       "      <td>0</td>\n",
       "      <td>0</td>\n",
       "      <td>0</td>\n",
       "      <td>0</td>\n",
       "      <td>0</td>\n",
       "      <td>0</td>\n",
       "      <td>14.085538</td>\n",
       "    </tr>\n",
       "    <tr>\n",
       "      <th>30127</th>\n",
       "      <td>7.649693</td>\n",
       "      <td>0</td>\n",
       "      <td>0</td>\n",
       "      <td>0</td>\n",
       "      <td>0</td>\n",
       "      <td>0</td>\n",
       "      <td>0</td>\n",
       "      <td>0</td>\n",
       "      <td>0</td>\n",
       "      <td>0</td>\n",
       "      <td>...</td>\n",
       "      <td>0</td>\n",
       "      <td>0</td>\n",
       "      <td>0</td>\n",
       "      <td>0</td>\n",
       "      <td>0</td>\n",
       "      <td>0</td>\n",
       "      <td>0</td>\n",
       "      <td>0</td>\n",
       "      <td>0</td>\n",
       "      <td>14.430696</td>\n",
       "    </tr>\n",
       "  </tbody>\n",
       "</table>\n",
       "<p>1368 rows × 76 columns</p>\n",
       "</div>"
      ],
      "text/plain": [
       "       log_sqft_living  zipcode_98126  zipcode_98004  zipcode_98055  \\\n",
       "24            7.506592              1              0              0   \n",
       "36            7.740664              0              1              0   \n",
       "40            7.512071              0              0              1   \n",
       "42            7.673223              0              1              0   \n",
       "51            7.215240              0              0              0   \n",
       "...                ...            ...            ...            ...   \n",
       "30084         7.714231              0              0              0   \n",
       "30094         7.478735              0              0              0   \n",
       "30105         7.605890              0              0              0   \n",
       "30107         7.313220              0              0              0   \n",
       "30127         7.649693              0              0              0   \n",
       "\n",
       "       zipcode_98116  zipcode_98117  zipcode_98027  zipcode_98103  \\\n",
       "24                 0              0              0              0   \n",
       "36                 0              0              0              0   \n",
       "40                 0              0              0              0   \n",
       "42                 0              0              0              0   \n",
       "51                 1              0              0              0   \n",
       "...              ...            ...            ...            ...   \n",
       "30084              0              0              0              0   \n",
       "30094              0              0              0              0   \n",
       "30105              0              0              0              0   \n",
       "30107              0              0              0              0   \n",
       "30127              0              0              0              0   \n",
       "\n",
       "       zipcode_98115  zipcode_98033  ...  zipcode_98003  zipcode_98224  \\\n",
       "24                 0              0  ...              0              0   \n",
       "36                 0              0  ...              0              0   \n",
       "40                 0              0  ...              0              0   \n",
       "42                 0              0  ...              0              0   \n",
       "51                 0              0  ...              0              0   \n",
       "...              ...            ...  ...            ...            ...   \n",
       "30084              0              0  ...              0              0   \n",
       "30094              0              0  ...              0              0   \n",
       "30105              0              0  ...              0              0   \n",
       "30107              0              0  ...              0              0   \n",
       "30127              0              0  ...              0              0   \n",
       "\n",
       "       zipcode_98057  zipcode_98007  zipcode_98053  zipcode_98075  \\\n",
       "24                 0              0              0              0   \n",
       "36                 0              0              0              0   \n",
       "40                 0              0              0              0   \n",
       "42                 0              0              0              0   \n",
       "51                 0              0              0              0   \n",
       "...              ...            ...            ...            ...   \n",
       "30084              0              0              0              0   \n",
       "30094              0              0              0              0   \n",
       "30105              0              0              0              0   \n",
       "30107              0              0              0              0   \n",
       "30127              0              0              0              0   \n",
       "\n",
       "       zipcode_98148  zipcode_98029  zipcode_98077  log_price  \n",
       "24                 0              0              0  13.573439  \n",
       "36                 0              0              0  14.711599  \n",
       "40                 0              0              0  13.527828  \n",
       "42                 0              0              0  14.351711  \n",
       "51                 0              0              0  13.901688  \n",
       "...              ...            ...            ...        ...  \n",
       "30084              0              0              0  13.589864  \n",
       "30094              0              0              0  14.415169  \n",
       "30105              0              0              0  14.140759  \n",
       "30107              0              0              0  14.085538  \n",
       "30127              0              0              0  14.430696  \n",
       "\n",
       "[1368 rows x 76 columns]"
      ]
     },
     "execution_count": 77,
     "metadata": {},
     "output_type": "execute_result"
    }
   ],
   "source": [
    "zip_dummy_final"
   ]
  },
  {
   "cell_type": "code",
   "execution_count": 93,
   "metadata": {},
   "outputs": [],
   "source": [
    "y_final = zip_dummy_final['log_price']\n",
    "x_final = zip_dummy_final.drop('log_price', axis = 1)\n",
    "model_final = sm.OLS(y_final, sm.add_constant(x_final)).fit()"
   ]
  },
  {
   "cell_type": "code",
   "execution_count": 94,
   "metadata": {
    "scrolled": true
   },
   "outputs": [
    {
     "name": "stdout",
     "output_type": "stream",
     "text": [
      "                            OLS Regression Results                            \n",
      "==============================================================================\n",
      "Dep. Variable:              log_price   R-squared:                       0.627\n",
      "Model:                            OLS   Adj. R-squared:                  0.605\n",
      "Method:                 Least Squares   F-statistic:                     28.96\n",
      "Date:                Thu, 30 Mar 2023   Prob (F-statistic):          3.83e-224\n",
      "Time:                        11:58:27   Log-Likelihood:                -779.47\n",
      "No. Observations:                1368   AIC:                             1711.\n",
      "Df Residuals:                    1292   BIC:                             2108.\n",
      "Df Model:                          75                                         \n",
      "Covariance Type:            nonrobust                                         \n",
      "===================================================================================\n",
      "                      coef    std err          t      P>|t|      [0.025      0.975]\n",
      "-----------------------------------------------------------------------------------\n",
      "const               8.2319      0.248     33.248      0.000       7.746       8.718\n",
      "log_sqft_living     0.7026      0.030     23.364      0.000       0.644       0.762\n",
      "zipcode_98126       0.2889      0.151      1.915      0.056      -0.007       0.585\n",
      "zipcode_98004       1.1642      0.143      8.154      0.000       0.884       1.444\n",
      "zipcode_98055       0.1024      0.215      0.477      0.634      -0.319       0.524\n",
      "zipcode_98116       0.4987      0.140      3.571      0.000       0.225       0.773\n",
      "zipcode_98117       0.4927      0.138      3.559      0.000       0.221       0.764\n",
      "zipcode_98027       0.3714      0.174      2.135      0.033       0.030       0.713\n",
      "zipcode_98103       0.3721      0.135      2.758      0.006       0.107       0.637\n",
      "zipcode_98115       0.3269      0.134      2.446      0.015       0.065       0.589\n",
      "zipcode_98033       0.8689      0.135      6.443      0.000       0.604       1.133\n",
      "zipcode_98125       0.3304      0.143      2.309      0.021       0.050       0.611\n",
      "zipcode_98118       0.0574      0.135      0.425      0.671      -0.208       0.322\n",
      "zipcode_98022      -0.1514      0.148     -1.021      0.308      -0.442       0.140\n",
      "zipcode_98065       0.1135      0.170      0.669      0.504      -0.219       0.446\n",
      "zipcode_98168      -0.3074      0.145     -2.120      0.034      -0.592      -0.023\n",
      "zipcode_98014      -0.1615      0.215     -0.751      0.453      -0.583       0.260\n",
      "zipcode_98166      -0.1683      0.146     -1.156      0.248      -0.454       0.117\n",
      "zipcode_98106       0.0734      0.145      0.506      0.613      -0.211       0.358\n",
      "zipcode_98133       0.2645      0.139      1.906      0.057      -0.008       0.537\n",
      "zipcode_98040       0.9684      0.142      6.807      0.000       0.689       1.248\n",
      "zipcode_98028       0.3343      0.173      1.927      0.054      -0.006       0.675\n",
      "zipcode_98008       0.6749      0.158      4.280      0.000       0.366       0.984\n",
      "zipcode_98122       0.4846      0.138      3.523      0.000       0.215       0.754\n",
      "zipcode_98058       0.0815      0.164      0.498      0.619      -0.240       0.403\n",
      "zipcode_98107       0.5277      0.150      3.526      0.000       0.234       0.821\n",
      "zipcode_98001      -0.1921      0.166     -1.154      0.249      -0.519       0.134\n",
      "zipcode_98178       0.0063      0.143      0.044      0.965      -0.275       0.288\n",
      "zipcode_98144       0.2995      0.145      2.069      0.039       0.015       0.584\n",
      "zipcode_98112       0.7485      0.142      5.288      0.000       0.471       1.026\n",
      "zipcode_98119       0.4896      0.142      3.444      0.001       0.211       0.768\n",
      "zipcode_98108       0.1211      0.204      0.594      0.553      -0.279       0.521\n",
      "zipcode_98045       0.2838      0.167      1.704      0.089      -0.043       0.611\n",
      "zipcode_98031      -0.0089      0.195     -0.045      0.964      -0.392       0.374\n",
      "zipcode_98039       1.2230      0.185      6.626      0.000       0.861       1.585\n",
      "zipcode_98070       0.2918      0.146      1.994      0.046       0.005       0.579\n",
      "zipcode_98199       0.6871      0.141      4.858      0.000       0.410       0.965\n",
      "zipcode_98188       0.1156      0.173      0.668      0.504      -0.224       0.455\n",
      "zipcode_98102       0.6349      0.171      3.715      0.000       0.300       0.970\n",
      "zipcode_98109       0.6100      0.167      3.648      0.000       0.282       0.938\n",
      "zipcode_98056       0.2833      0.148      1.913      0.056      -0.007       0.574\n",
      "zipcode_98136       0.3873      0.144      2.681      0.007       0.104       0.671\n",
      "zipcode_98155       0.1865      0.157      1.187      0.235      -0.122       0.495\n",
      "zipcode_98105       0.6840      0.146      4.693      0.000       0.398       0.970\n",
      "zipcode_98072       0.7485      0.205      3.658      0.000       0.347       1.150\n",
      "zipcode_98052       0.5011      0.178      2.812      0.005       0.151       0.851\n",
      "zipcode_98177       0.3235      0.149      2.173      0.030       0.031       0.616\n",
      "zipcode_98059       0.2065      0.155      1.328      0.184      -0.098       0.512\n",
      "zipcode_98023      -0.1059      0.170     -0.624      0.533      -0.439       0.227\n",
      "zipcode_98019       0.1360      0.215      0.632      0.527      -0.286       0.558\n",
      "zipcode_98006       0.5817      0.151      3.851      0.000       0.285       0.878\n",
      "zipcode_98010      -0.5410      0.280     -1.930      0.054      -1.091       0.009\n",
      "zipcode_98074       0.7153      0.231      3.097      0.002       0.262       1.168\n",
      "zipcode_98030      -0.1354      0.182     -0.743      0.458      -0.493       0.222\n",
      "zipcode_98051      -0.4093      0.250     -1.640      0.101      -0.899       0.080\n",
      "zipcode_98005       0.9335      0.165      5.658      0.000       0.610       1.257\n",
      "zipcode_98146      -0.0702      0.143     -0.490      0.624      -0.351       0.211\n",
      "zipcode_98038       0.2964      0.164      1.809      0.071      -0.025       0.618\n",
      "zipcode_98198      -0.0348      0.155     -0.224      0.823      -0.339       0.270\n",
      "zipcode_98002      -0.1901      0.157     -1.212      0.226      -0.498       0.118\n",
      "zipcode_98288      -0.2633      0.229     -1.148      0.251      -0.713       0.187\n",
      "zipcode_98034       0.5406      0.158      3.430      0.001       0.231       0.850\n",
      "zipcode_98032      -0.2375      0.280     -0.847      0.397      -0.788       0.313\n",
      "zipcode_98011       0.5146      0.215      2.394      0.017       0.093       0.936\n",
      "zipcode_98024      -0.0859      0.188     -0.456      0.648      -0.455       0.283\n",
      "zipcode_98047      -0.2754      0.280     -0.984      0.326      -0.825       0.274\n",
      "zipcode_98092      -0.0015      0.182     -0.008      0.993      -0.359       0.356\n",
      "zipcode_98003      -0.0910      0.173     -0.525      0.600      -0.431       0.249\n",
      "zipcode_98224       0.0905      0.457      0.198      0.843      -0.806       0.987\n",
      "zipcode_98057      -0.0518      0.215     -0.241      0.810      -0.474       0.371\n",
      "zipcode_98007       0.4746      0.196      2.426      0.015       0.091       0.858\n",
      "zipcode_98053       0.4197      0.230      1.827      0.068      -0.031       0.870\n",
      "zipcode_98075       0.6457      0.230      2.812      0.005       0.195       1.096\n",
      "zipcode_98148       0.3024      0.333      0.908      0.364      -0.351       0.956\n",
      "zipcode_98029       0.7122      0.456      1.561      0.119      -0.183       1.607\n",
      "zipcode_98077       0.2091      0.250      0.837      0.403      -0.281       0.699\n",
      "==============================================================================\n",
      "Omnibus:                      675.305   Durbin-Watson:                   2.016\n",
      "Prob(Omnibus):                  0.000   Jarque-Bera (JB):            10459.885\n",
      "Skew:                          -1.904   Prob(JB):                         0.00\n",
      "Kurtosis:                      16.000   Cond. No.                         670.\n",
      "==============================================================================\n",
      "\n",
      "Notes:\n",
      "[1] Standard Errors assume that the covariance matrix of the errors is correctly specified.\n"
     ]
    }
   ],
   "source": [
    "print(model_final.summary())"
   ]
  },
  {
   "cell_type": "code",
   "execution_count": 105,
   "metadata": {},
   "outputs": [],
   "source": [
    "#zip_dummy_final.info()"
   ]
  },
  {
   "cell_type": "markdown",
   "metadata": {},
   "source": [
    "## dropping p-values larger than 0.05"
   ]
  },
  {
   "cell_type": "code",
   "execution_count": 96,
   "metadata": {},
   "outputs": [],
   "source": [
    "pvalues = model_final.pvalues\n",
    "\n",
    "selected_features = pvalues[pvalues >= 0.05].index"
   ]
  },
  {
   "cell_type": "code",
   "execution_count": 97,
   "metadata": {
    "scrolled": true
   },
   "outputs": [
    {
     "data": {
      "text/plain": [
       "Index(['zipcode_98126', 'zipcode_98055', 'zipcode_98118', 'zipcode_98022',\n",
       "       'zipcode_98065', 'zipcode_98014', 'zipcode_98166', 'zipcode_98106',\n",
       "       'zipcode_98133', 'zipcode_98028', 'zipcode_98058', 'zipcode_98001',\n",
       "       'zipcode_98178', 'zipcode_98108', 'zipcode_98045', 'zipcode_98031',\n",
       "       'zipcode_98188', 'zipcode_98056', 'zipcode_98155', 'zipcode_98059',\n",
       "       'zipcode_98023', 'zipcode_98019', 'zipcode_98010', 'zipcode_98030',\n",
       "       'zipcode_98051', 'zipcode_98146', 'zipcode_98038', 'zipcode_98198',\n",
       "       'zipcode_98002', 'zipcode_98288', 'zipcode_98032', 'zipcode_98024',\n",
       "       'zipcode_98047', 'zipcode_98092', 'zipcode_98003', 'zipcode_98224',\n",
       "       'zipcode_98057', 'zipcode_98053', 'zipcode_98148', 'zipcode_98029',\n",
       "       'zipcode_98077'],\n",
       "      dtype='object')"
      ]
     },
     "execution_count": 97,
     "metadata": {},
     "output_type": "execute_result"
    }
   ],
   "source": [
    "selected_features"
   ]
  },
  {
   "cell_type": "code",
   "execution_count": 101,
   "metadata": {},
   "outputs": [],
   "source": [
    "too_high_p = ['zipcode_98126', 'zipcode_98055', 'zipcode_98118', 'zipcode_98022',\n",
    "       'zipcode_98065', 'zipcode_98014', 'zipcode_98166', 'zipcode_98106',\n",
    "       'zipcode_98133', 'zipcode_98028', 'zipcode_98058', 'zipcode_98001',\n",
    "       'zipcode_98178', 'zipcode_98108', 'zipcode_98045', 'zipcode_98031',\n",
    "       'zipcode_98188', 'zipcode_98056', 'zipcode_98155', 'zipcode_98059',\n",
    "       'zipcode_98023', 'zipcode_98019', 'zipcode_98010', 'zipcode_98030',\n",
    "       'zipcode_98051', 'zipcode_98146', 'zipcode_98038', 'zipcode_98198',\n",
    "       'zipcode_98002', 'zipcode_98288', 'zipcode_98032', 'zipcode_98024',\n",
    "       'zipcode_98047', 'zipcode_98092', 'zipcode_98003', 'zipcode_98224',\n",
    "       'zipcode_98057', 'zipcode_98053', 'zipcode_98148', 'zipcode_98029',\n",
    "       'zipcode_98077']"
   ]
  },
  {
   "cell_type": "code",
   "execution_count": 102,
   "metadata": {},
   "outputs": [],
   "source": [
    "zip_dummy_final2 = zip_dummy_final.drop(columns=too_high_p)"
   ]
  },
  {
   "cell_type": "code",
   "execution_count": 106,
   "metadata": {},
   "outputs": [],
   "source": [
    "#zip_dummy_final2.info()"
   ]
  },
  {
   "cell_type": "code",
   "execution_count": 103,
   "metadata": {
    "scrolled": true
   },
   "outputs": [
    {
     "name": "stdout",
     "output_type": "stream",
     "text": [
      "                            OLS Regression Results                            \n",
      "==============================================================================\n",
      "Dep. Variable:              log_price   R-squared:                       0.600\n",
      "Model:                            OLS   Adj. R-squared:                  0.589\n",
      "Method:                 Least Squares   F-statistic:                     58.72\n",
      "Date:                Thu, 30 Mar 2023   Prob (F-statistic):          2.76e-237\n",
      "Time:                        11:59:08   Log-Likelihood:                -827.97\n",
      "No. Observations:                1368   AIC:                             1726.\n",
      "Df Residuals:                    1333   BIC:                             1909.\n",
      "Df Model:                          34                                         \n",
      "Covariance Type:            nonrobust                                         \n",
      "===================================================================================\n",
      "                      coef    std err          t      P>|t|      [0.025      0.975]\n",
      "-----------------------------------------------------------------------------------\n",
      "const               8.2206      0.222     36.993      0.000       7.785       8.657\n",
      "log_sqft_living     0.7109      0.030     23.971      0.000       0.653       0.769\n",
      "zipcode_98004       1.1095      0.083     13.369      0.000       0.947       1.272\n",
      "zipcode_98116       0.4470      0.078      5.707      0.000       0.293       0.601\n",
      "zipcode_98117       0.4415      0.076      5.794      0.000       0.292       0.591\n",
      "zipcode_98027       0.3182      0.131      2.423      0.016       0.061       0.576\n",
      "zipcode_98103       0.3201      0.069      4.637      0.000       0.185       0.456\n",
      "zipcode_98115       0.2750      0.066      4.140      0.000       0.145       0.405\n",
      "zipcode_98033       0.8154      0.068     11.932      0.000       0.681       0.949\n",
      "zipcode_98125       0.2781      0.084      3.296      0.001       0.113       0.444\n",
      "zipcode_98168      -0.3570      0.088     -4.035      0.000      -0.531      -0.183\n",
      "zipcode_98040       0.9125      0.082     11.177      0.000       0.752       1.073\n",
      "zipcode_98008       0.6218      0.108      5.762      0.000       0.410       0.833\n",
      "zipcode_98122       0.4331      0.074      5.821      0.000       0.287       0.579\n",
      "zipcode_98107       0.4759      0.096      4.977      0.000       0.288       0.663\n",
      "zipcode_98144       0.2470      0.087      2.832      0.005       0.076       0.418\n",
      "zipcode_98112       0.6949      0.081      8.563      0.000       0.536       0.854\n",
      "zipcode_98119       0.4361      0.082      5.300      0.000       0.275       0.597\n",
      "zipcode_98039       1.1663      0.145      8.046      0.000       0.882       1.451\n",
      "zipcode_98070       0.2400      0.090      2.663      0.008       0.063       0.417\n",
      "zipcode_98199       0.6337      0.081      7.820      0.000       0.475       0.793\n",
      "zipcode_98102       0.5804      0.127      4.578      0.000       0.332       0.829\n",
      "zipcode_98109       0.5567      0.122      4.568      0.000       0.318       0.796\n",
      "zipcode_98136       0.3358      0.087      3.860      0.000       0.165       0.506\n",
      "zipcode_98105       0.6293      0.088      7.135      0.000       0.456       0.802\n",
      "zipcode_98072       0.6947      0.171      4.059      0.000       0.359       1.030\n",
      "zipcode_98052       0.4476      0.137      3.265      0.001       0.179       0.717\n",
      "zipcode_98177       0.2706      0.094      2.879      0.004       0.086       0.455\n",
      "zipcode_98006       0.5266      0.097      5.433      0.000       0.336       0.717\n",
      "zipcode_98074       0.6590      0.203      3.250      0.001       0.261       1.057\n",
      "zipcode_98005       0.8789      0.118      7.426      0.000       0.647       1.111\n",
      "zipcode_98034       0.4878      0.108      4.524      0.000       0.276       0.699\n",
      "zipcode_98011       0.4638      0.184      2.517      0.012       0.102       0.825\n",
      "zipcode_98007       0.4220      0.160      2.637      0.008       0.108       0.736\n",
      "zipcode_98075       0.5939      0.202      2.944      0.003       0.198       0.990\n",
      "==============================================================================\n",
      "Omnibus:                      661.718   Durbin-Watson:                   2.000\n",
      "Prob(Omnibus):                  0.000   Jarque-Bera (JB):             9478.915\n",
      "Skew:                          -1.879   Prob(JB):                         0.00\n",
      "Kurtosis:                      15.336   Cond. No.                         151.\n",
      "==============================================================================\n",
      "\n",
      "Notes:\n",
      "[1] Standard Errors assume that the covariance matrix of the errors is correctly specified.\n"
     ]
    }
   ],
   "source": [
    "y_final2 = zip_dummy_final2['log_price']\n",
    "x_final2 = zip_dummy_final2.drop('log_price', axis = 1)\n",
    "\n",
    "model_final2 = sm.OLS(y_final2, sm.add_constant(x_final2)).fit()\n",
    "\n",
    "print(model_final2.summary())"
   ]
  },
  {
   "cell_type": "code",
   "execution_count": null,
   "metadata": {},
   "outputs": [],
   "source": [
    "sns.lmplot(data=zip_dummy_final2, x='log_sqft_living', y='log_price')\n",
    "plt.xlabel('SQFT Living')\n",
    "plt.ylabel('Price of House')\n",
    "plt.title('House Price as a function of SQFT_Living');"
   ]
  },
  {
   "cell_type": "markdown",
   "metadata": {},
   "source": [
    "# Column Names and Descriptions for King County Data Set\n",
    "\n",
    "* `id` - Unique identifier for a house\n",
    "* `date` - Date house was sold\n",
    "* `price` - Sale price (prediction target)\n",
    "* `bedrooms` - Number of bedrooms\n",
    "* `bathrooms` - Number of bathrooms\n",
    "* `sqft_living` - Square footage of living space in the home\n",
    "* `sqft_lot` - Square footage of the lot\n",
    "* `floors` - Number of floors (levels) in house\n",
    "* `waterfront` - Whether the house is on a waterfront\n",
    "  * Includes Duwamish, Elliott Bay, Puget Sound, Lake Union, Ship Canal, Lake Washington, Lake Sammamish, other lake, and river/slough waterfronts\n",
    "* `greenbelt` - Whether the house is adjacent to a green belt\n",
    "* `nuisance` - Whether the house has traffic noise or other recorded nuisances\n",
    "* `view` - Quality of view from house\n",
    "  * Includes views of Mt. Rainier, Olympics, Cascades, Territorial, Seattle Skyline, Puget Sound, Lake Washington, Lake Sammamish, small lake / river / creek, and other\n",
    "* `condition` - How good the overall condition of the house is. Related to maintenance of house.\n",
    "  * See the [King County Assessor Website](https://info.kingcounty.gov/assessor/esales/Glossary.aspx?type=r) for further explanation of each condition code\n",
    "* `grade` - Overall grade of the house. Related to the construction and design of the house.\n",
    "  * See the [King County Assessor Website](https://info.kingcounty.gov/assessor/esales/Glossary.aspx?type=r) for further explanation of each building grade code\n",
    "* `heat_source` - Heat source for the house\n",
    "* `sewer_system` - Sewer system for the house\n",
    "* `sqft_above` - Square footage of house apart from basement\n",
    "* `sqft_basement` - Square footage of the basement\n",
    "* `sqft_garage` - Square footage of garage space\n",
    "* `sqft_patio` - Square footage of outdoor porch or deck space\n",
    "* `yr_built` - Year when house was built\n",
    "* `yr_renovated` - Year when house was renovated\n",
    "* `address` - The street address\n",
    "* `lat` - Latitude coordinate\n",
    "* `long` - Longitude coordinate\n",
    "\n",
    "Most fields were pulled from the [King County Assessor Data Download](https://info.kingcounty.gov/assessor/DataDownload/default.aspx).\n",
    "\n",
    "The `address`, `lat`, and `long` fields have been retrieved using a third-party [geocoding API](https://docs.mapbox.com/api/search/geocoding/). In some cases due to missing or incorrectly-entered data from the King County Assessor, this API returned locations outside of King County, WA. If you plan to use the `address`, `lat`, or `long` fields in your modeling, consider identifying outliers prior to including the values in your model.\n"
   ]
  },
  {
   "cell_type": "markdown",
   "metadata": {},
   "source": [
    "### Condition Column info:\n",
    "\n",
    "Relative to age and grade. Coded 1-5.\n",
    "\n",
    "1 = Poor- Worn out. Repair and overhaul needed on painted surfaces, roofing, plumbing, heating and numerous functional inadequacies. Excessive deferred maintenance and abuse, limited value-in-use, approaching abandonment or major reconstruction; reuse or change in occupancy is imminent. Effective age is near the end of the scale regardless of the actual chronological age.\n",
    "\n",
    "2 = Fair- Badly worn. Much repair needed. Many items need refinishing or overhauling, deferred maintenance obvious, inadequate building utility and systems all shortening the life expectancy and increasing the effective age.\n",
    "\n",
    "3 = Average- Some evidence of deferred maintenance and normal obsolescence with age in that a few minor repairs are needed, along with some refinishing. All major components still functional and contributing toward an extended life expectancy. Effective age and utility is standard for like properties of its class and usage.\n",
    "\n",
    "4 = Good- No obvious maintenance required but neither is everything new. Appearance and utility are above the standard and the overall effective age will be lower than the typical property.\n",
    "\n",
    "5= Very Good- All items well maintained, many having been overhauled and repaired as they have shown signs of wear, increasing the life expectancy and lowering the effective age with little deterioration or obsolescence evident with a high degree of utility."
   ]
  },
  {
   "cell_type": "markdown",
   "metadata": {},
   "source": [
    "### Grade Column Info:\n",
    "\n",
    "Represents the construction quality of improvements. Grades run from grade 1 to 13. Generally defined as:\n",
    "\n",
    "1-3 Falls short of minimum building standards. Normally cabin or inferior structure.\n",
    "\n",
    "4 Generally older, low quality construction. Does not meet code.\n",
    "\n",
    "5 Low construction costs and workmanship. Small, simple design.\n",
    "\n",
    "6 Lowest grade currently meeting building code. Low quality materials and simple designs.\n",
    "\n",
    "7 Average grade of construction and design. Commonly seen in plats and older sub-divisions.\n",
    "\n",
    "8 Just above average in construction and design. Usually better materials in both the exterior and interior finish work.\n",
    "\n",
    "9 Better architectural design with extra interior and exterior design and quality.\n",
    "\n",
    "10 Homes of this quality generally have high quality features. Finish work is better and more design quality is seen in the floor plans. Generally have a larger square footage.\n",
    "\n",
    "11 Custom design and higher quality finish work with added amenities of solid woods, bathroom fixtures and more luxurious options.\n",
    "\n",
    "12 Custom design and excellent builders. All materials are of the highest quality and all conveniences are present.\n",
    "\n",
    "13 Generally custom designed and built. Mansion level. Large amount of highest quality cabinet work, wood trim, marble, entry ways etc."
   ]
  },
  {
   "cell_type": "markdown",
   "metadata": {},
   "source": [
    "# Bathrooms and sqft larger correlated and probably because larger homes more bathrooms\n",
    "\n",
    "# Grade may not be dependent, but grade 13 and 1 describe homes that typically pertain to size so without those grades, could possibly be an accurate feature"
   ]
  },
  {
   "cell_type": "markdown",
   "metadata": {},
   "source": [
    "# communities mightt have higher price per square foot \n",
    "\n",
    "# create a new variable price per square foot"
   ]
  }
 ],
 "metadata": {
  "kernelspec": {
   "display_name": "Python (learn-env)",
   "language": "python",
   "name": "learn-env"
  },
  "language_info": {
   "codemirror_mode": {
    "name": "ipython",
    "version": 3
   },
   "file_extension": ".py",
   "mimetype": "text/x-python",
   "name": "python",
   "nbconvert_exporter": "python",
   "pygments_lexer": "ipython3",
   "version": "3.8.5"
  }
 },
 "nbformat": 4,
 "nbformat_minor": 4
}
